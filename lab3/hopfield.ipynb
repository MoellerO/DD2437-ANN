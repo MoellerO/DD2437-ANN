{
 "cells": [
  {
   "attachments": {},
   "cell_type": "markdown",
   "metadata": {},
   "source": [
    "## Lab 3"
   ]
  },
  {
   "cell_type": "code",
   "execution_count": 2,
   "metadata": {},
   "outputs": [],
   "source": [
    "import numpy as np\n",
    "import matplotlib.pyplot as plt"
   ]
  },
  {
   "attachments": {},
   "cell_type": "markdown",
   "metadata": {},
   "source": [
    "Functions:"
   ]
  },
  {
   "cell_type": "code",
   "execution_count": 3,
   "metadata": {},
   "outputs": [],
   "source": [
    "def init_weights(n_neurons):\n",
    "    return np.zeros((n_neurons, n_neurons))\n",
    "\n",
    "def activation(x):\n",
    "    return np.where(x >= 0, 1, -1)\n",
    "\n",
    "def store_pattern(weights, pattern):\n",
    "    # Update the weights matrix\n",
    "    weights += np.outer(pattern, pattern)\n",
    "    return weights\n",
    "\n",
    "def update_network(x, W, do_print=False):\n",
    "    N = len(x)  # Number of neurons\n",
    "    iterations = 0\n",
    "    while True:\n",
    "        # Apply the update rule\n",
    "        x_new = activation(W.dot(x))\n",
    "        \n",
    "        # Check for convergence\n",
    "        if np.array_equal(x, x_new):\n",
    "            if do_print:\n",
    "                print(\"Converged in {} iterations\".format(iterations))\n",
    "            return x\n",
    "        \n",
    "        if iterations > 1000:\n",
    "            print(\"Did not converge\")\n",
    "            return x\n",
    "        x = x_new\n",
    "        iterations+=1\n",
    "        \n",
    "def find_attractors(W):\n",
    "    N = W.shape[0]\n",
    "    attractors = []\n",
    "    \n",
    "    for i in range(2**N):\n",
    "        initial_state = np.array([int(bit) for bit in np.binary_repr(i, width=N)])\n",
    "        attractor = update_network(initial_state, W)\n",
    "        \n",
    "        is_new_attractor = True\n",
    "        for existing_attractor in attractors:\n",
    "            if np.array_equal(attractor, existing_attractor):\n",
    "                is_new_attractor = False\n",
    "                break\n",
    "        \n",
    "        if is_new_attractor:\n",
    "            attractors.append(attractor)\n",
    "    \n",
    "    return attractors"
   ]
  },
  {
   "attachments": {},
   "cell_type": "markdown",
   "metadata": {},
   "source": [
    "Init hopfield weights"
   ]
  },
  {
   "cell_type": "code",
   "execution_count": 76,
   "metadata": {},
   "outputs": [
    {
     "name": "stdout",
     "output_type": "stream",
     "text": [
      "Pattern x1 recall:  True\n",
      "Pattern x2 recall:  True\n",
      "Pattern x3 recall:  True\n"
     ]
    }
   ],
   "source": [
    "# init patterns\n",
    "x1 = np.array([-1.0, -1.0, 1.0, -1.0, 1.0, -1.0, -1.0, 1.0])\n",
    "x2 = np.array([-1.0, -1.0, -1.0, -1.0, -1.0, 1.0, -1.0, -1.0])\n",
    "x3 = np.array([-1.0, 1.0, 1.0, -1.0, -1.0, 1.0, -1.0, 1.0])\n",
    "\n",
    "# store patterns\n",
    "W = init_weights(n_neurons=8)\n",
    "W = store_pattern(W, x1)\n",
    "W = store_pattern(W, x2)\n",
    "W = store_pattern(W, x3)\n",
    "\n",
    "# check recall\n",
    "x1_recall = update_network(x1, W)\n",
    "x2_recall = update_network(x2, W)\n",
    "x3_recall = update_network(x3, W)\n",
    "\n",
    "# Check if the recalled patterns match the stored patterns\n",
    "print(\"Pattern x1 recall: \", np.array_equal(x1, x1_recall))\n",
    "print(\"Pattern x2 recall: \", np.array_equal(x2, x2_recall))\n",
    "print(\"Pattern x3 recall: \", np.array_equal(x3, x3_recall))"
   ]
  },
  {
   "attachments": {},
   "cell_type": "markdown",
   "metadata": {},
   "source": [
    "### 3.1 Convergence and attractors"
   ]
  },
  {
   "cell_type": "code",
   "execution_count": null,
   "metadata": {},
   "outputs": [],
   "source": [
    "# distored patterns\n",
    "import numpy as np\n",
    "x1d = np.array([1.0, -1.0, 1.0, -1.0, 1.0, -1.0, -1.0, 1.0])\n",
    "x2d = np.array([1.0, 1.0, -1.0, -1.0, -1.0, 1.0, -1.0, -1.0])\n",
    "x3d = np.array([1.0, 1.0, 1.0, -1.0, 1.0, 1.0, -1.0, 1.0])\n",
    "\n",
    "# check recall\n",
    "x1d_recall = update_network(x1d, W)\n",
    "x2d_recall = update_network(x2d, W)\n",
    "x3d_recall = update_network(x3d, W)\n",
    "\n",
    "print(x2d.astype(int))\n",
    "print(x2d_recall)\n",
    "print(x2.astype(int))\n",
    "\n",
    "# Check if the recalled patterns match the stored patterns\n",
    "print(\"Pattern x1 recall: \", np.array_equal(x1, x1d_recall))\n",
    "print(\"Pattern x2 recall: \", np.array_equal(x2, x2d_recall))\n",
    "print(\"Pattern x3 recall: \", np.array_equal(x3, x3d_recall))"
   ]
  },
  {
   "attachments": {},
   "cell_type": "markdown",
   "metadata": {},
   "source": [
    "How many attractors:"
   ]
  },
  {
   "cell_type": "code",
   "execution_count": null,
   "metadata": {},
   "outputs": [],
   "source": [
    "# Find attractors\n",
    "attractors = find_attractors(W)\n",
    "\n",
    "print(\"Number of attractors:\", len(attractors))\n",
    "for attractor in attractors:\n",
    "    print(\"Attractor:\", attractor)"
   ]
  },
  {
   "attachments": {},
   "cell_type": "markdown",
   "metadata": {},
   "source": [
    "More than half is wrong"
   ]
  },
  {
   "cell_type": "code",
   "execution_count": 77,
   "metadata": {},
   "outputs": [
    {
     "name": "stdout",
     "output_type": "stream",
     "text": [
      "Converged in 1 iterations\n",
      "Pattern x1 recall:  False\n"
     ]
    }
   ],
   "source": [
    "x1dd = np.array([-1.0, -1.0, -1.0, -1.0, 1.0, 1.0, 1.0, 1.0])\n",
    "x1dd_recall = update_network(x1dd, W, do_print=True)\n",
    "print(\"Pattern x1 recall: \", np.array_equal(x1, x1dd_recall))\n"
   ]
  },
  {
   "attachments": {},
   "cell_type": "markdown",
   "metadata": {},
   "source": [
    "###  3.2 Sequential Update"
   ]
  },
  {
   "attachments": {},
   "cell_type": "markdown",
   "metadata": {},
   "source": [
    "Functions"
   ]
  },
  {
   "cell_type": "code",
   "execution_count": 4,
   "metadata": {},
   "outputs": [],
   "source": [
    "def load_data(path):\n",
    "    with open(path) as f:\n",
    "        for row in f:\n",
    "            data = row.strip().split(\",\")\n",
    "    f.close()\n",
    "\n",
    "    for i, d in enumerate(data):\n",
    "        data[i] = float(d)\n",
    "\n",
    "    pictures = []\n",
    "    for i in range(len(data)):\n",
    "        if i % 1024 == 0:\n",
    "            pic = []\n",
    "        pic.append(data[i])\n",
    "        if (i+1) % 1024 == 0:\n",
    "            pictures.append(np.array(pic))\n",
    "    return pictures\n",
    "\n",
    "def show_pict(array):\n",
    "    image = array.reshape((32, 32))\n",
    "    plt.figure(figsize=(6,6))\n",
    "    plt.imshow(image, cmap='gray')\n",
    "    plt.axis('off')\n",
    "    plt.show()"
   ]
  },
  {
   "attachments": {},
   "cell_type": "markdown",
   "metadata": {},
   "source": [
    "Load the data"
   ]
  },
  {
   "cell_type": "code",
   "execution_count": 5,
   "metadata": {},
   "outputs": [],
   "source": [
    "pictures = load_data(\"data/pict.dat\")\n",
    "p1 = pictures[0]\n",
    "p2 = pictures[1]\n",
    "p3 = pictures[2]\n",
    "p4 = pictures[3]\n",
    "p5 = pictures[4]\n",
    "p6 = pictures[5]\n",
    "p7 = pictures[6]\n",
    "p8 = pictures[7]\n",
    "p9 = pictures[8]\n",
    "p10 = pictures[9]\n",
    "p11 = pictures[10]\n",
    "# show_pict(p8)"
   ]
  },
  {
   "attachments": {},
   "cell_type": "markdown",
   "metadata": {},
   "source": [
    "Check the first three patterns are stable"
   ]
  },
  {
   "cell_type": "code",
   "execution_count": 6,
   "metadata": {},
   "outputs": [
    {
     "name": "stdout",
     "output_type": "stream",
     "text": [
      "Pattern p1 recall:  True\n",
      "Pattern p2 recall:  True\n",
      "Pattern p3 recall:  True\n"
     ]
    }
   ],
   "source": [
    "W = init_weights(n_neurons=1024)\n",
    "W = store_pattern(W, p1)\n",
    "W = store_pattern(W, p2)\n",
    "W = store_pattern(W, p3)\n",
    "\n",
    "# check recall\n",
    "p1_recall = update_network(p1, W)\n",
    "p2_recall = update_network(p2, W)\n",
    "p3_recall = update_network(p3, W)\n",
    "\n",
    "# Check if the recalled patterns match the stored patterns\n",
    "print(\"Pattern p1 recall: \", np.array_equal(p1, p1_recall))\n",
    "print(\"Pattern p2 recall: \", np.array_equal(p2, p2_recall))\n",
    "print(\"Pattern p3 recall: \", np.array_equal(p3, p3_recall))"
   ]
  },
  {
   "attachments": {},
   "cell_type": "markdown",
   "metadata": {},
   "source": [
    "Can the network complete a degraded pattern? Try the pattern p10, which\n",
    "is a degraded version of p1, or p11 which is a mixture of p2 and p3."
   ]
  },
  {
   "cell_type": "code",
   "execution_count": null,
   "metadata": {},
   "outputs": [],
   "source": [
    "p10_recall = update_network(p10, W)\n",
    "p11_recall = update_network(p11, W)\n",
    "print(\"Pattern p10 recall: \", np.array_equal(p1, p10_recall))\n",
    "print(\"Pattern p11 recall: \", np.array_equal(p2, p11_recall))\n",
    "print(\"Pattern p11 recall: \", np.array_equal(p3, p11_recall))\n",
    "# show_pict(p1)\n",
    "# show_pict(p10)\n",
    "show_pict(p2)\n",
    "show_pict(p3)\n",
    "show_pict(p11)\n",
    "show_pict(p11_recall)"
   ]
  },
  {
   "attachments": {},
   "cell_type": "markdown",
   "metadata": {},
   "source": [
    "What happens if we select units randomly?"
   ]
  },
  {
   "cell_type": "code",
   "execution_count": 42,
   "metadata": {},
   "outputs": [],
   "source": [
    "def update_network_random(x, W, do_print=False):\n",
    "    N = len(x)  # Number of neurons\n",
    "    iterations = 0\n",
    "    num_changes = 1  # Number of changes in the state\n",
    "    \n",
    "    while num_changes > 0:\n",
    "        num_changes = 0\n",
    "        indices = np.random.permutation(N)  # Randomly permute the indices\n",
    "        \n",
    "        for i in indices:\n",
    "            x_i_new = activation(W[i].dot(x))\n",
    "            \n",
    "            if x_i_new != x[i]:\n",
    "                x[i] = x_i_new\n",
    "                num_changes += 1\n",
    "        \n",
    "            iterations += 1\n",
    "            # if iterations % 200 == 0:\n",
    "            #     show_pict(x)\n",
    "        \n",
    "        # Check for convergence\n",
    "        if num_changes == 0:\n",
    "            if do_print:\n",
    "                print(\"Converged in {} iterations\".format(iterations))\n",
    "            return x\n",
    "        \n",
    "        if iterations > 100000:\n",
    "            print(\"Did not converge within 100000 iterations\")\n",
    "            return x"
   ]
  },
  {
   "cell_type": "code",
   "execution_count": null,
   "metadata": {},
   "outputs": [],
   "source": [
    "# show_pict(p10)\n",
    "p11_recall = update_network_random(np.copy(p11), W, True)\n",
    "# show_pict(p10_recall)\n",
    "print(\"Pattern p11 recall: \", np.array_equal(p2, p11_recall))\n",
    "print(\"Pattern p11 recall: \", np.array_equal(p3, p11_recall))"
   ]
  },
  {
   "attachments": {},
   "cell_type": "markdown",
   "metadata": {},
   "source": [
    "### Energy"
   ]
  },
  {
   "cell_type": "code",
   "execution_count": 21,
   "metadata": {},
   "outputs": [],
   "source": [
    "import numpy as np\n",
    "\n",
    "def energy(x, W):\n",
    "    return -np.sum(np.dot(x, np.dot(W, x)))\n",
    "\n",
    "def update_network_energy(x, W, do_print=False):\n",
    "    N = len(x)  \n",
    "    iterations = 0\n",
    "    energies = []\n",
    "    while True:\n",
    "        indices = np.random.permutation(N)  \n",
    "        num_changes = 0  \n",
    "        \n",
    "        for i in indices:\n",
    "            x_i_new = activation(W[i].dot(x))\n",
    "            \n",
    "            if x_i_new != x[i]:\n",
    "                x[i] = x_i_new\n",
    "                num_changes += 1\n",
    "\n",
    "            # Calculate energy\n",
    "            e = energy(x, W)\n",
    "            energies.append(e)\n",
    "            iterations += 1\n",
    "        \n",
    "        # Check for convergence\n",
    "        if num_changes == 0:\n",
    "            if do_print:\n",
    "                print(\"Converged in {} iterations\".format(iterations))\n",
    "            return x,energies\n",
    "        \n",
    "        if iterations > 100000:\n",
    "            print(\"Did not converge within 100000 iterations\")\n",
    "            return x, energies\n",
    "        \n",
    "        if do_print:\n",
    "            print(\"Energy at iteration {}: {}\".format(iterations, e))"
   ]
  },
  {
   "cell_type": "code",
   "execution_count": 9,
   "metadata": {},
   "outputs": [
    {
     "name": "stdout",
     "output_type": "stream",
     "text": [
      "Converged in 1024 iterations\n",
      "Converged in 1024 iterations\n",
      "Converged in 1024 iterations\n",
      "Energy at iteration 1024: -1473936.0\n",
      "Converged in 2048 iterations\n",
      "Energy at iteration 1024: -1394864.0\n",
      "Energy at iteration 2048: -1497344.0\n",
      "Converged in 3072 iterations\n",
      "-1473936.0\n",
      "-1398416.0\n",
      "-1497344.0\n",
      "Pattern p1 recall:  True\n",
      "Pattern p2 recall:  True\n",
      "Pattern p3 recall:  True\n",
      "Pattern p10 recall:  True\n",
      "Pattern p11 recall:  True\n"
     ]
    }
   ],
   "source": [
    "p1_recall, e1 = update_network_energy(np.copy(p1), W, True)\n",
    "p2_recall, e2 = update_network_energy(np.copy(p2), W, True)\n",
    "p3_recall, e3= update_network_energy(np.copy(p3), W, True)\n",
    "p10_recall, e10= update_network_energy(np.copy(p10), W, True)\n",
    "p11_recall, e11= update_network_energy(np.copy(p11), W, True)\n",
    "\n",
    "print(e1[-1])\n",
    "print(e2[-1])\n",
    "print(e3[-1])\n",
    "print(\"Pattern p1 recall: \", np.array_equal(p1, p1_recall))\n",
    "print(\"Pattern p2 recall: \", np.array_equal(p2, p2_recall))\n",
    "print(\"Pattern p3 recall: \", np.array_equal(p3, p3_recall))\n",
    "print(\"Pattern p10 recall: \", np.array_equal(p1, p10_recall))\n",
    "print(\"Pattern p11 recall: \", np.array_equal(p3, p11_recall))\n"
   ]
  },
  {
   "cell_type": "code",
   "execution_count": 11,
   "metadata": {},
   "outputs": [
    {
     "name": "stdout",
     "output_type": "stream",
     "text": [
      "2048\n"
     ]
    },
    {
     "data": {
      "image/png": "[encoded data removed]",
      "text/plain": [
       "<Figure size 432x288 with 1 Axes>"
      ]
     },
     "metadata": {
      "needs_background": "light"
     },
     "output_type": "display_data"
    }
   ],
   "source": [
    "print(len(e10))\n",
    "plt.plot(e11)\n",
    "plt.xlabel('Iteration') # or 'Time Step' if that's more appropriate\n",
    "plt.ylabel('Energy')\n",
    "plt.title('Energy of the Hopfield Network over Iterations')\n",
    "plt.show()"
   ]
  },
  {
   "attachments": {},
   "cell_type": "markdown",
   "metadata": {},
   "source": [
    "Random Weights and starting state"
   ]
  },
  {
   "cell_type": "code",
   "execution_count": null,
   "metadata": {},
   "outputs": [],
   "source": [
    "N=1024\n",
    "W = np.random.normal(0, 1, (N, N))\n",
    "\n",
    "# Create an arbitrary starting state\n",
    "x = np.random.choice([-1, 1], size=N)\n",
    "\n",
    "# Update the network using random unit selection\n",
    "updated_state = update_network_energy(x, W, do_print=True)"
   ]
  },
  {
   "cell_type": "code",
   "execution_count": 18,
   "metadata": {},
   "outputs": [
    {
     "data": {
      "image/png": "[encoded data removed]",
      "text/plain": [
       "<Figure size 432x288 with 1 Axes>"
      ]
     },
     "metadata": {
      "needs_background": "light"
     },
     "output_type": "display_data"
    }
   ],
   "source": [
    "plt.plot(updated_state[1])\n",
    "plt.xlabel('Iteration') # or 'Time Step' if that's more appropriate\n",
    "plt.ylabel('Energy')\n",
    "plt.title('Energy of the Hopfield Network over Iterations')\n",
    "plt.show()"
   ]
  },
  {
   "attachments": {},
   "cell_type": "markdown",
   "metadata": {},
   "source": [
    "Symmetric Weights"
   ]
  },
  {
   "cell_type": "code",
   "execution_count": null,
   "metadata": {},
   "outputs": [],
   "source": [
    "N=1024\n",
    "W = np.random.normal(0, 1, (N, N))\n",
    "W = 0.5 * (W + W.T)\n",
    "x = np.random.choice([-1, 1], size=N)\n",
    "\n",
    "# Update the network using random unit selection\n",
    "updated_state = update_network_energy(x, W, do_print=True)\n",
    "plt.plot(updated_state[1])\n",
    "plt.xlabel('Iteration') # or 'Time Step' if that's more appropriate\n",
    "plt.ylabel('Energy')\n",
    "plt.title('Energy of the Hopfield Network over Iterations')\n",
    "plt.show()"
   ]
  },
  {
   "attachments": {},
   "cell_type": "markdown",
   "metadata": {},
   "source": [
    "### Distortion Resistance"
   ]
  },
  {
   "cell_type": "code",
   "execution_count": 11,
   "metadata": {},
   "outputs": [],
   "source": [
    "def init_weights(n_neurons):\n",
    "    return np.zeros((n_neurons, n_neurons))\n",
    "\n",
    "def activation(x):\n",
    "    return np.where(x >= 0, 1, -1)\n",
    "\n",
    "def store_pattern(weights, pattern):\n",
    "    # Update the weights matrix\n",
    "    weights += np.outer(pattern, pattern)\n",
    "    return weights\n",
    "\n",
    "def update_network(x, W, do_print=False):\n",
    "    N = len(x)  # Number of neurons\n",
    "    iterations = 0\n",
    "    while True:\n",
    "        # Apply the update rule\n",
    "        x_new = activation(W.dot(x))\n",
    "        \n",
    "        # Check for convergence\n",
    "        if np.array_equal(x, x_new):\n",
    "            # if do_print:\n",
    "            #     print(\"Converged in {} iterations\".format(iterations))\n",
    "            return x\n",
    "        \n",
    "        if iterations > 1000:\n",
    "            print(\"Did not converge\")\n",
    "            return x\n",
    "        x = x_new\n",
    "        iterations+=1\n",
    "        \n",
    "def find_attractors(W):\n",
    "    N = W.shape[0]\n",
    "    attractors = []\n",
    "    \n",
    "    for i in range(2**N):\n",
    "        initial_state = np.array([int(bit) for bit in np.binary_repr(i, width=N)])\n",
    "        attractor = update_network(initial_state, W)\n",
    "        \n",
    "        is_new_attractor = True\n",
    "        for existing_attractor in attractors:\n",
    "            if np.array_equal(attractor, existing_attractor):\n",
    "                is_new_attractor = False\n",
    "                break\n",
    "        \n",
    "        if is_new_attractor:\n",
    "            attractors.append(attractor)\n",
    "    \n",
    "    return attractors\n",
    "\n",
    "def load_data(path):\n",
    "    with open(path) as f:\n",
    "        for row in f:\n",
    "            data = row.strip().split(\",\")\n",
    "    f.close()\n",
    "\n",
    "    for i, d in enumerate(data):\n",
    "        data[i] = float(d)\n",
    "\n",
    "    pictures = []\n",
    "    for i in range(len(data)):\n",
    "        if i % 1024 == 0:\n",
    "            pic = []\n",
    "        pic.append(data[i])\n",
    "        if (i+1) % 1024 == 0:\n",
    "            pictures.append(np.array(pic))\n",
    "    return pictures\n",
    "\n",
    "def show_pict(array):\n",
    "    image = array.reshape((32, 32))\n",
    "    plt.figure(figsize=(6,6))\n",
    "    plt.imshow(image, cmap='gray')\n",
    "    plt.axis('off')\n",
    "    plt.show()"
   ]
  },
  {
   "cell_type": "code",
   "execution_count": 6,
   "metadata": {},
   "outputs": [
    {
     "name": "stdout",
     "output_type": "stream",
     "text": [
      "Pattern p1 recall:  True\n",
      "Pattern p2 recall:  True\n",
      "Pattern p3 recall:  True\n"
     ]
    }
   ],
   "source": [
    "pictures = load_data(\"data/pict.dat\")\n",
    "p1 = pictures[0]\n",
    "p2 = pictures[1]\n",
    "p3 = pictures[2]\n",
    "\n",
    "W = init_weights(n_neurons=1024)\n",
    "W = store_pattern(W, p1)\n",
    "W = store_pattern(W, p2)\n",
    "W = store_pattern(W, p3)\n",
    "\n",
    "# check recall\n",
    "p1_recall = update_network(p1, W)\n",
    "p2_recall = update_network(p2, W)\n",
    "p3_recall = update_network(p3, W)\n",
    "\n",
    "# Check if the recalled patterns match the stored patterns\n",
    "print(\"Pattern p1 recall: \", np.array_equal(p1, p1_recall))\n",
    "print(\"Pattern p2 recall: \", np.array_equal(p2, p2_recall))\n",
    "print(\"Pattern p3 recall: \", np.array_equal(p3, p3_recall))"
   ]
  },
  {
   "cell_type": "code",
   "execution_count": 16,
   "metadata": {},
   "outputs": [
    {
     "data": {
      "image/png": "[encoded data removed]",
      "text/plain": [
       "<Figure size 720x432 with 1 Axes>"
      ]
     },
     "metadata": {
      "needs_background": "light"
     },
     "output_type": "display_data"
    },
    {
     "name": "stdout",
     "output_type": "stream",
     "text": [
      "Pattern 1: 95\n",
      "Pattern 2: 94\n",
      "Pattern 3: 91\n",
      "Other Attractors: 350\n"
     ]
    }
   ],
   "source": [
    "noise_levels = np.arange(0, 101, 5)\n",
    "patterns =[p1, p2, p3]\n",
    "success_rates = []\n",
    "\n",
    "noise_levels = np.arange(0, 101, 5)\n",
    "success_rates = [[] for _ in patterns]\n",
    "pattern_labels = ['Pattern 1', 'Pattern 2', 'Pattern 3']\n",
    "colors = ['r', 'g', 'b']\n",
    "attractor_counts = [0] * (len(patterns) + 1)\n",
    "\n",
    "for noise in noise_levels:\n",
    "    for idx, pattern in enumerate(patterns):\n",
    "        success_count = 0\n",
    "        attractor_count = [0] * (len(patterns) + 1)\n",
    "        \n",
    "        for _ in range(10):  # Repeat for more reliable results\n",
    "            noisy_pattern = pattern.copy()\n",
    "            num_noise_bits = int(len(pattern) * noise / 100)\n",
    "            noise_indices = np.random.choice(len(pattern), size=num_noise_bits, replace=False)\n",
    "            noisy_pattern[noise_indices] *= -1\n",
    "\n",
    "            restored_pattern = update_network(noisy_pattern, W)\n",
    "            \n",
    "            if np.array_equal(pattern, restored_pattern):\n",
    "                success_count += 1\n",
    "            \n",
    "            # Count the attractor reached\n",
    "            for attractor_idx, stored_pattern in enumerate(patterns):\n",
    "                if np.array_equal(stored_pattern, restored_pattern):\n",
    "                    attractor_count[attractor_idx] += 1\n",
    "                    break\n",
    "            else:\n",
    "                attractor_count[-1] += 1\n",
    "        \n",
    "        success_rate = success_count / 10  # Average over multiple runs\n",
    "        success_rates[idx].append(success_rate)\n",
    "        \n",
    "        # Accumulate attractor counts\n",
    "        attractor_counts = [ac + count for ac, count in zip(attractor_counts, attractor_count)]\n",
    "\n",
    "# Plot the success rates for each attractor\n",
    "plt.figure(figsize=(10, 6))\n",
    "\n",
    "for idx, success_rate in enumerate(success_rates):\n",
    "    plt.plot(noise_levels, success_rate, marker='o', color=colors[idx], label=pattern_labels[idx])\n",
    "\n",
    "plt.xlabel('Noise Level (%)')\n",
    "plt.ylabel('Success Rate')\n",
    "plt.title('Pattern Restoration with Noise')\n",
    "plt.legend()\n",
    "plt.grid(True)\n",
    "plt.show()\n",
    "\n",
    "# Print attractor counts\n",
    "for attractor_idx, label in enumerate(pattern_labels + ['Other Attractors']):\n",
    "    print(\"{}: {}\".format(label, attractor_counts[attractor_idx]))"
   ]
  }
 ],
 "metadata": {
  "kernelspec": {
   "display_name": "Python 3",
   "language": "python",
   "name": "python3"
  },
  "language_info": {
   "codemirror_mode": {
    "name": "ipython",
    "version": 3
   },
   "file_extension": ".py",
   "mimetype": "text/x-python",
   "name": "python",
   "nbconvert_exporter": "python",
   "pygments_lexer": "ipython3",
   "version": "3.9.7"
  },
  "orig_nbformat": 4
 },
 "nbformat": 4,
 "nbformat_minor": 2
}
