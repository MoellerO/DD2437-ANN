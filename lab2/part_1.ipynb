{
 "cells": [
  {
   "attachments": {},
   "cell_type": "markdown",
   "metadata": {},
   "source": [
    "### This notebook will solve part 1 of lab 2 for the KTH ANN course"
   ]
  },
  {
   "attachments": {},
   "cell_type": "markdown",
   "metadata": {},
   "source": [
    "### 3.1 - Batch RBF"
   ]
  },
  {
   "attachments": {},
   "cell_type": "markdown",
   "metadata": {},
   "source": [
    "Functions"
   ]
  },
  {
   "cell_type": "code",
   "execution_count": 3,
   "metadata": {},
   "outputs": [],
   "source": [
    "import numpy as np\n",
    "import math\n",
    "import matplotlib.pyplot as plt\n",
    "\n",
    "def sample_sin(start, end, step):\n",
    "    count = int((end - start) // step + 1)\n",
    "    data = np.array([math.sin(2*(start + step * i)) for i in range(count)])\n",
    "    data = data.reshape((count, 1))\n",
    "    return data\n",
    "\n",
    "def sample_square(start, end, step):\n",
    "    sample = sample_sin(start, end, step)\n",
    "    sample = np.where(sample >= 0, 1, -1)\n",
    "    sample = sample.reshape((sample.shape[0], 1))\n",
    "    return sample\n",
    "  \n",
    "def gaussian(x, center, sigma):\n",
    "    return np.exp(-0.5 * ((x - center) / sigma) ** 2)\n",
    "\n",
    "def calculate_rbf(x, centers, sigma):\n",
    "    return np.array([gaussian(x, c, sigma) for c in centers]).T\n",
    "\n",
    "def train_rbf(X, Y, centers, sigma):\n",
    "    phi = calculate_rbf(X, centers, sigma)\n",
    "    # pseudo inverse to get weights that minimize mse\n",
    "    weights = np.linalg.pinv(phi) @ Y\n",
    "    return weights\n",
    "\n",
    "def predict_rbf(X, centers, sigma, weights):\n",
    "    phi = calculate_rbf(X, centers, sigma)\n",
    "    return phi @ weights\n",
    "  \n",
    "def plot_predictions(x, actual_y, predicted_y, title, name, centers):\n",
    "    plt.figure(figsize=(10, 6))\n",
    "    plt.scatter(x, actual_y, color='blue', label='Actual')\n",
    "    plt.scatter(x, predicted_y, color='red', label='Predicted')\n",
    "    plt.title(title)\n",
    "    plt.xlabel('x')\n",
    "    plt.ylabel('y')\n",
    "    plt.legend()\n",
    "    # plt.show()\n",
    "    plt.tight_layout()  # Add this line\n",
    "    plt.savefig('imgs/'+name +str(len(centers))+ '.png')\n",
    "    \n",
    "def get_labels():\n",
    "    train_sin = sample_sin(0, math.pi * 2, 0.1)\n",
    "    test_sin = sample_sin(0.05, math.pi * 2, 0.1)\n",
    "    train_square = sample_square(0, math.pi * 2, 0.1)\n",
    "    test_square = sample_square(0.05, math.pi * 2, 0.1)\n",
    "    train_x = np.arange(0, math.pi * 2, 0.1)\n",
    "    test_x = np.arange(0.05, math.pi * 2, 0.1)\n",
    "    return train_x,test_x,train_sin, test_sin, train_square, test_square\n",
    "  \n",
    "\n",
    "def compute_error(actual, predicted):\n",
    "  return np.mean(np.absolute(actual - predicted))\n",
    "  \n",
    "def evaluate(name, train_x, train_y,test_x, test_y,centers, sigma):\n",
    "    weights = train_rbf(train_x, train_y, centers, sigma)\n",
    "    train_pred = predict_rbf(train_x, centers, sigma, weights)\n",
    "    train_error = compute_error(train_y, train_pred)\n",
    "    test_pred = predict_rbf(test_x, centers, sigma, weights)\n",
    "    test_error = compute_error(test_y, train_pred)\n",
    "    print(f'Train error ({name}):', train_error)\n",
    "    print(f'Test error ({name}):', test_error)\n",
    "    plot_predictions(test_x, test_y, test_pred, f'Predictions vs Actual for {name}(2x)', name, centers)\n",
    "    "
   ]
  },
  {
   "cell_type": "code",
   "execution_count": null,
   "metadata": {},
   "outputs": [],
   "source": [
    "step = 2*math.pi/61\n",
    "print(step)\n",
    "\n",
    "start, end, step = 0, 2*math.pi,step\n",
    "centers = np.arange(start, end, step)\n",
    "centers = [0.25*math.pi, 3*math.pi/4, 5*math.pi/4, 7*math.pi/4]\n",
    "sigma = 0.5\n",
    "\n",
    "train_x,test_x,sin_y_train, sin_y_test, train_y_square, test_y_square = get_labels()\n",
    "evaluate('sin', train_x, sin_y_train,test_x, sin_y_test,centers, sigma)\n",
    "evaluate('square', train_x, train_y_square,test_x, test_y_square,centers, sigma)\n",
    "\n"
   ]
  },
  {
   "attachments": {},
   "cell_type": "markdown",
   "metadata": {},
   "source": [
    "### 3.2 - Online RBF"
   ]
  },
  {
   "cell_type": "code",
   "execution_count": 9,
   "metadata": {},
   "outputs": [],
   "source": [
    "def sample_sin(start, end, step):\n",
    "    count = int((end - start) // step + 1)\n",
    "    data = np.array([math.sin(start + step * i) for i in range(count)])\n",
    "    data = data.reshape((count, 1))\n",
    "    return data\n",
    "\n",
    "def sample_square(start, end, step):\n",
    "    sample = sample_sin(start, end, step)\n",
    "    sample = np.where(sample >= 0, 1, -1)\n",
    "    sample = sample.reshape((sample.shape[0], 1))\n",
    "    return sample\n",
    "\n",
    "# Function for adding Gaussian noise\n",
    "def add_noise(y, variance):\n",
    "    noise = np.random.normal(0, np.sqrt(variance), y.shape)\n",
    "    return y + noise\n",
    "\n",
    "# Function for updating weights with delta rule\n",
    "def update_weights(weights, eta, error, phi):\n",
    "    return weights + eta * error * phi\n",
    "\n",
    "# RBF and training functions\n",
    "def calculate_rbf(x, centers, sigma):\n",
    "    return np.array([gaussian(x, c, sigma) for c in centers]).T\n",
    "\n",
    "def train_rbf_online(X, Y, centers, sigma, eta, epochs):\n",
    "    weights = np.random.rand(len(centers), 1)\n",
    "    for epoch in range(epochs):\n",
    "        p = np.random.permutation(X.shape[0])\n",
    "        X, Y = X[p], Y[p]\n",
    "        for i in range(X.shape[0]):\n",
    "            phi = calculate_rbf(X[i], centers, sigma).reshape(-1, 1)\n",
    "            y_pred = phi.T @ weights\n",
    "            error = Y[i] - y_pred\n",
    "            weights = update_weights(weights, eta, error, phi)\n",
    "    return weights\n",
    "\n",
    "def predict_rbf(X, centers, sigma, weights):\n",
    "    phi = calculate_rbf(X, centers, sigma)\n",
    "    return phi @ weights"
   ]
  },
  {
   "cell_type": "code",
   "execution_count": 21,
   "metadata": {},
   "outputs": [
    {
     "data": {
      "image/png": "[encoded data removed]",
      "text/plain": [
       "<Figure size 432x288 with 1 Axes>"
      ]
     },
     "metadata": {
      "needs_background": "light"
     },
     "output_type": "display_data"
    },
    {
     "name": "stdout",
     "output_type": "stream",
     "text": [
      "Test error (online learning, 10 centers, width 0.5): 0.11546979688143418\n"
     ]
    }
   ],
   "source": [
    "# Define parameters\n",
    "start, end, step = 0, 2*math.pi, 0.1\n",
    "sigma = 0.5 # Width of the RBF nodes\n",
    "eta = 0.01 # Learning rate\n",
    "epochs = 100 # Number of epochs\n",
    "n_centers = 10 # Number of RBF nodes\n",
    "\n",
    "# Generate training and testing datasets\n",
    "sin_train_x = np.arange(start, end, step)\n",
    "sin_train_y = sample_sin(start, end, step)\n",
    "sin_test_x = np.arange(start + 0.05, end, step)\n",
    "sin_test_y = sample_sin(start + 0.05, end, step)\n",
    "\n",
    "# Add noise to the datasets\n",
    "sin_train_y_noise = add_noise(sin_train_y, 0.1)\n",
    "sin_test_y_noise = add_noise(sin_test_y, 0.1)\n",
    "\n",
    "# Train the RBF network using on-line learning\n",
    "centers = np.linspace(start, end, n_centers)\n",
    "weights_online = train_rbf_online(sin_train_x, sin_train_y_noise, centers, sigma, eta, epochs)\n",
    "\n",
    "# Make predictions on the test set\n",
    "y_pred_online = predict_rbf(sin_test_x, centers, sigma, weights_online)\n",
    "\n",
    "# Plot the results\n",
    "plt.figure()\n",
    "plt.plot(sin_test_x, sin_test_y_noise, label='True')\n",
    "plt.plot(sin_test_x, y_pred_online, label='RBF Online')\n",
    "plt.legend()\n",
    "plt.show()\n",
    "\n",
    "# Print the mean squared error\n",
    "print(f\"Test error (online learning, {n_centers} centers, width {sigma}):\", np.mean((sin_test_y_noise - y_pred_online)**2))"
   ]
  }
 ],
 "metadata": {
  "kernelspec": {
   "display_name": "Python 3",
   "language": "python",
   "name": "python3"
  },
  "language_info": {
   "codemirror_mode": {
    "name": "ipython",
    "version": 3
   },
   "file_extension": ".py",
   "mimetype": "text/x-python",
   "name": "python",
   "nbconvert_exporter": "python",
   "pygments_lexer": "ipython3",
   "version": "3.9.7"
  },
  "orig_nbformat": 4
 },
 "nbformat": 4,
 "nbformat_minor": 2
}
